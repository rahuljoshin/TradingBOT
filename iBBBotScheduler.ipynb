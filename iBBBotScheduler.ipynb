{
  "nbformat": 4,
  "nbformat_minor": 0,
  "metadata": {
    "colab": {
      "provenance": [],
      "authorship_tag": "ABX9TyPY0aaOo/dZFxqdrQuysHhD",
      "include_colab_link": true
    },
    "kernelspec": {
      "name": "python3",
      "display_name": "Python 3"
    },
    "language_info": {
      "name": "python"
    }
  },
  "cells": [
    {
      "cell_type": "markdown",
      "metadata": {
        "id": "view-in-github",
        "colab_type": "text"
      },
      "source": [
        "<a href=\"https://colab.research.google.com/github/rahuljoshin/TradingBOT/blob/main/iBBBotScheduler.ipynb\" target=\"_parent\"><img src=\"https://colab.research.google.com/assets/colab-badge.svg\" alt=\"Open In Colab\"/></a>"
      ]
    },
    {
      "cell_type": "code",
      "execution_count": null,
      "metadata": {
        "id": "v0V_he8TCBWa"
      },
      "outputs": [],
      "source": [
        "from google.colab import drive\n"
      ]
    },
    {
      "cell_type": "code",
      "source": [
        "drive.mount('/content/drive')\n"
      ],
      "metadata": {
        "id": "LmxMnjhBCRWq"
      },
      "execution_count": null,
      "outputs": []
    },
    {
      "cell_type": "code",
      "source": [
        "%cd /content/drive/MyDrive"
      ],
      "metadata": {
        "id": "kyRjzC8aCmaG"
      },
      "execution_count": null,
      "outputs": []
    },
    {
      "cell_type": "code",
      "source": [
        "import os\n",
        "import shutil\n",
        "\n",
        "# Define the path of the folder you want to delete\n",
        "folder_path = \"/content/drive/MyDrive/TradingBOT\"\n",
        "\n",
        "# Check if the folder exists\n",
        "if os.path.exists(folder_path) and os.path.isdir(folder_path):\n",
        "    # Folder exists, delete it\n",
        "    shutil.rmtree(folder_path)\n",
        "    print(f\"The folder {folder_path} has been deleted.\")\n",
        "else:\n",
        "    print(f\"The folder {folder_path} does not exist.\")"
      ],
      "metadata": {
        "id": "8ZzuQ-dKW4HL"
      },
      "execution_count": null,
      "outputs": []
    },
    {
      "cell_type": "code",
      "source": [
        "!git clone https://github.com/rahuljoshin/TradingBOT.git"
      ],
      "metadata": {
        "id": "zr0twe8kC2zU"
      },
      "execution_count": null,
      "outputs": []
    },
    {
      "cell_type": "code",
      "source": [
        "%cd TradingBOT"
      ],
      "metadata": {
        "id": "F6z57fRzDR4o"
      },
      "execution_count": null,
      "outputs": []
    },
    {
      "cell_type": "code",
      "source": [
        "! pip install -r requirements.txt"
      ],
      "metadata": {
        "id": "BZOtEhohDe12"
      },
      "execution_count": null,
      "outputs": []
    },
    {
      "cell_type": "code",
      "source": [
        "!apt-get install -y tmux"
      ],
      "metadata": {
        "id": "QhbhsCeAU0QD"
      },
      "execution_count": null,
      "outputs": []
    },
    {
      "cell_type": "code",
      "source": [
        "!tmux new -d -s my_session 'python Scheduler.py'"
      ],
      "metadata": {
        "id": "4Y7HNFPPU5tL"
      },
      "execution_count": null,
      "outputs": []
    },
    {
      "cell_type": "code",
      "source": [
        "!tmux attach -t my_session"
      ],
      "metadata": {
        "id": "llSfYTGhU_Xi"
      },
      "execution_count": null,
      "outputs": []
    }
  ]
}
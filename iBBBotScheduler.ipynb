{
  "nbformat": 4,
  "nbformat_minor": 0,
  "metadata": {
    "colab": {
      "provenance": [],
      "authorship_tag": "ABX9TyPsZwCogO7MXATG6wPWZ/5g",
      "include_colab_link": true
    },
    "kernelspec": {
      "name": "python3",
      "display_name": "Python 3"
    },
    "language_info": {
      "name": "python"
    }
  },
  "cells": [
    {
      "cell_type": "markdown",
      "metadata": {
        "id": "view-in-github",
        "colab_type": "text"
      },
      "source": [
        "<a href=\"https://colab.research.google.com/github/rahuljoshin/TradingBOT/blob/main/iBBBotScheduler.ipynb\" target=\"_parent\"><img src=\"https://colab.research.google.com/assets/colab-badge.svg\" alt=\"Open In Colab\"/></a>"
      ]
    },
    {
      "cell_type": "code",
      "execution_count": 15,
      "metadata": {
        "id": "v0V_he8TCBWa"
      },
      "outputs": [],
      "source": [
        "from google.colab import drive\n"
      ]
    },
    {
      "cell_type": "code",
      "source": [
        "drive.mount('/content/drive')\n"
      ],
      "metadata": {
        "id": "LmxMnjhBCRWq",
        "outputId": "ed7cb93a-2237-4b64-83cd-cd705318274a",
        "colab": {
          "base_uri": "https://localhost:8080/"
        }
      },
      "execution_count": 16,
      "outputs": [
        {
          "output_type": "stream",
          "name": "stdout",
          "text": [
            "Drive already mounted at /content/drive; to attempt to forcibly remount, call drive.mount(\"/content/drive\", force_remount=True).\n"
          ]
        }
      ]
    },
    {
      "cell_type": "code",
      "source": [
        "%cd /content/drive/MyDrive"
      ],
      "metadata": {
        "id": "kyRjzC8aCmaG",
        "outputId": "03f030eb-8179-444e-867f-9010fa89e508",
        "colab": {
          "base_uri": "https://localhost:8080/"
        }
      },
      "execution_count": 17,
      "outputs": [
        {
          "output_type": "stream",
          "name": "stdout",
          "text": [
            "/content/drive/MyDrive\n"
          ]
        }
      ]
    },
    {
      "cell_type": "code",
      "source": [
        "import shutil\n",
        "\n",
        "# Define the path of the folder you want to delete\n",
        "folder_path = \"/content/drive/MyDrive/TradingBOT\"\n",
        "\n",
        "# Use the shutil.rmtree() function to remove the folder and its contents\n",
        "shutil.rmtree(folder_path)"
      ],
      "metadata": {
        "id": "8ZzuQ-dKW4HL"
      },
      "execution_count": 18,
      "outputs": []
    },
    {
      "cell_type": "code",
      "source": [
        "!git clone https://github.com/rahuljoshin/TradingBOT.git"
      ],
      "metadata": {
        "id": "zr0twe8kC2zU",
        "outputId": "c2c22d8b-721d-47d8-acfc-b50a29047134",
        "colab": {
          "base_uri": "https://localhost:8080/"
        }
      },
      "execution_count": 19,
      "outputs": [
        {
          "output_type": "stream",
          "name": "stdout",
          "text": [
            "Cloning into 'TradingBOT'...\n",
            "remote: Enumerating objects: 95, done.\u001b[K\n",
            "remote: Counting objects: 100% (95/95), done.\u001b[K\n",
            "remote: Compressing objects: 100% (71/71), done.\u001b[K\n",
            "remote: Total 95 (delta 42), reused 67 (delta 20), pack-reused 0\u001b[K\n",
            "Receiving objects: 100% (95/95), 33.02 KiB | 563.00 KiB/s, done.\n",
            "Resolving deltas: 100% (42/42), done.\n"
          ]
        }
      ]
    },
    {
      "cell_type": "code",
      "source": [
        "%cd TradingBOT"
      ],
      "metadata": {
        "id": "F6z57fRzDR4o",
        "outputId": "bbea388b-d9dc-4cec-e511-87cf603f758f",
        "colab": {
          "base_uri": "https://localhost:8080/"
        }
      },
      "execution_count": 20,
      "outputs": [
        {
          "output_type": "stream",
          "name": "stdout",
          "text": [
            "/content/drive/MyDrive/TradingBOT\n"
          ]
        }
      ]
    },
    {
      "cell_type": "code",
      "source": [
        "! pip install -r requirements.txt"
      ],
      "metadata": {
        "id": "BZOtEhohDe12",
        "outputId": "4444ea69-ca01-4b56-c4cf-bffceab3dcfd",
        "colab": {
          "base_uri": "https://localhost:8080/"
        }
      },
      "execution_count": 21,
      "outputs": [
        {
          "output_type": "stream",
          "name": "stdout",
          "text": [
            "Requirement already satisfied: pip==23.3.1 in /usr/local/lib/python3.10/dist-packages (from -r requirements.txt (line 1)) (23.3.1)\n",
            "Requirement already satisfied: yfinance in /usr/local/lib/python3.10/dist-packages (from -r requirements.txt (line 2)) (0.2.31)\n",
            "Requirement already satisfied: pandas in /usr/local/lib/python3.10/dist-packages (from -r requirements.txt (line 3)) (1.5.3)\n",
            "Requirement already satisfied: numpy in /usr/local/lib/python3.10/dist-packages (from -r requirements.txt (line 4)) (1.23.5)\n",
            "Requirement already satisfied: requests in /usr/local/lib/python3.10/dist-packages (from -r requirements.txt (line 5)) (2.31.0)\n",
            "Requirement already satisfied: matplotlib in /usr/local/lib/python3.10/dist-packages (from -r requirements.txt (line 6)) (3.7.1)\n",
            "Requirement already satisfied: ta in /usr/local/lib/python3.10/dist-packages (from -r requirements.txt (line 7)) (0.11.0)\n",
            "Requirement already satisfied: click==8.1.3 in /usr/local/lib/python3.10/dist-packages (from -r requirements.txt (line 8)) (8.1.3)\n",
            "Requirement already satisfied: Flask==2.2.2 in /usr/local/lib/python3.10/dist-packages (from -r requirements.txt (line 9)) (2.2.2)\n",
            "Requirement already satisfied: gunicorn==20.1.0 in /usr/local/lib/python3.10/dist-packages (from -r requirements.txt (line 10)) (20.1.0)\n",
            "Requirement already satisfied: importlib-metadata==5.0.0 in /usr/local/lib/python3.10/dist-packages (from -r requirements.txt (line 11)) (5.0.0)\n",
            "Requirement already satisfied: itsdangerous==2.1.2 in /usr/local/lib/python3.10/dist-packages (from -r requirements.txt (line 12)) (2.1.2)\n",
            "Requirement already satisfied: Jinja2==3.1.2 in /usr/local/lib/python3.10/dist-packages (from -r requirements.txt (line 13)) (3.1.2)\n",
            "Requirement already satisfied: MarkupSafe==2.1.1 in /usr/local/lib/python3.10/dist-packages (from -r requirements.txt (line 14)) (2.1.1)\n",
            "Requirement already satisfied: Werkzeug==2.2.2 in /usr/local/lib/python3.10/dist-packages (from -r requirements.txt (line 15)) (2.2.2)\n",
            "Requirement already satisfied: zipp==3.10.0 in /usr/local/lib/python3.10/dist-packages (from -r requirements.txt (line 16)) (3.10.0)\n",
            "Requirement already satisfied: schedule in /usr/local/lib/python3.10/dist-packages (from -r requirements.txt (line 17)) (1.2.1)\n",
            "Requirement already satisfied: setuptools>=3.0 in /usr/local/lib/python3.10/dist-packages (from gunicorn==20.1.0->-r requirements.txt (line 10)) (67.7.2)\n",
            "Requirement already satisfied: multitasking>=0.0.7 in /usr/local/lib/python3.10/dist-packages (from yfinance->-r requirements.txt (line 2)) (0.0.11)\n",
            "Requirement already satisfied: lxml>=4.9.1 in /usr/local/lib/python3.10/dist-packages (from yfinance->-r requirements.txt (line 2)) (4.9.3)\n",
            "Requirement already satisfied: appdirs>=1.4.4 in /usr/local/lib/python3.10/dist-packages (from yfinance->-r requirements.txt (line 2)) (1.4.4)\n",
            "Requirement already satisfied: pytz>=2022.5 in /usr/local/lib/python3.10/dist-packages (from yfinance->-r requirements.txt (line 2)) (2023.3.post1)\n",
            "Requirement already satisfied: frozendict>=2.3.4 in /usr/local/lib/python3.10/dist-packages (from yfinance->-r requirements.txt (line 2)) (2.3.8)\n",
            "Requirement already satisfied: peewee>=3.16.2 in /usr/local/lib/python3.10/dist-packages (from yfinance->-r requirements.txt (line 2)) (3.17.0)\n",
            "Requirement already satisfied: beautifulsoup4>=4.11.1 in /usr/local/lib/python3.10/dist-packages (from yfinance->-r requirements.txt (line 2)) (4.11.2)\n",
            "Requirement already satisfied: html5lib>=1.1 in /usr/local/lib/python3.10/dist-packages (from yfinance->-r requirements.txt (line 2)) (1.1)\n",
            "Requirement already satisfied: python-dateutil>=2.8.1 in /usr/local/lib/python3.10/dist-packages (from pandas->-r requirements.txt (line 3)) (2.8.2)\n",
            "Requirement already satisfied: charset-normalizer<4,>=2 in /usr/local/lib/python3.10/dist-packages (from requests->-r requirements.txt (line 5)) (3.3.1)\n",
            "Requirement already satisfied: idna<4,>=2.5 in /usr/local/lib/python3.10/dist-packages (from requests->-r requirements.txt (line 5)) (3.4)\n",
            "Requirement already satisfied: urllib3<3,>=1.21.1 in /usr/local/lib/python3.10/dist-packages (from requests->-r requirements.txt (line 5)) (2.0.7)\n",
            "Requirement already satisfied: certifi>=2017.4.17 in /usr/local/lib/python3.10/dist-packages (from requests->-r requirements.txt (line 5)) (2023.7.22)\n",
            "Requirement already satisfied: contourpy>=1.0.1 in /usr/local/lib/python3.10/dist-packages (from matplotlib->-r requirements.txt (line 6)) (1.1.1)\n",
            "Requirement already satisfied: cycler>=0.10 in /usr/local/lib/python3.10/dist-packages (from matplotlib->-r requirements.txt (line 6)) (0.12.1)\n",
            "Requirement already satisfied: fonttools>=4.22.0 in /usr/local/lib/python3.10/dist-packages (from matplotlib->-r requirements.txt (line 6)) (4.43.1)\n",
            "Requirement already satisfied: kiwisolver>=1.0.1 in /usr/local/lib/python3.10/dist-packages (from matplotlib->-r requirements.txt (line 6)) (1.4.5)\n",
            "Requirement already satisfied: packaging>=20.0 in /usr/local/lib/python3.10/dist-packages (from matplotlib->-r requirements.txt (line 6)) (23.2)\n",
            "Requirement already satisfied: pillow>=6.2.0 in /usr/local/lib/python3.10/dist-packages (from matplotlib->-r requirements.txt (line 6)) (9.4.0)\n",
            "Requirement already satisfied: pyparsing>=2.3.1 in /usr/local/lib/python3.10/dist-packages (from matplotlib->-r requirements.txt (line 6)) (3.1.1)\n",
            "Requirement already satisfied: soupsieve>1.2 in /usr/local/lib/python3.10/dist-packages (from beautifulsoup4>=4.11.1->yfinance->-r requirements.txt (line 2)) (2.5)\n",
            "Requirement already satisfied: six>=1.9 in /usr/local/lib/python3.10/dist-packages (from html5lib>=1.1->yfinance->-r requirements.txt (line 2)) (1.16.0)\n",
            "Requirement already satisfied: webencodings in /usr/local/lib/python3.10/dist-packages (from html5lib>=1.1->yfinance->-r requirements.txt (line 2)) (0.5.1)\n",
            "\u001b[33mWARNING: Running pip as the 'root' user can result in broken permissions and conflicting behaviour with the system package manager. It is recommended to use a virtual environment instead: https://pip.pypa.io/warnings/venv\u001b[0m\u001b[33m\n",
            "\u001b[0m"
          ]
        }
      ]
    },
    {
      "cell_type": "code",
      "source": [
        "!apt-get install -y tmux"
      ],
      "metadata": {
        "id": "QhbhsCeAU0QD",
        "outputId": "75c1a5bd-fc18-4d92-c4d8-10c3d7ddf242",
        "colab": {
          "base_uri": "https://localhost:8080/"
        }
      },
      "execution_count": 22,
      "outputs": [
        {
          "output_type": "stream",
          "name": "stdout",
          "text": [
            "Reading package lists... Done\n",
            "Building dependency tree... Done\n",
            "Reading state information... Done\n",
            "tmux is already the newest version (3.2a-4ubuntu0.2).\n",
            "0 upgraded, 0 newly installed, 0 to remove and 19 not upgraded.\n"
          ]
        }
      ]
    },
    {
      "cell_type": "code",
      "source": [
        "!tmux new -d -s my_session 'python Scheduler.py'"
      ],
      "metadata": {
        "id": "4Y7HNFPPU5tL"
      },
      "execution_count": 23,
      "outputs": []
    },
    {
      "cell_type": "code",
      "source": [
        "!tmux attach -t my_session"
      ],
      "metadata": {
        "id": "llSfYTGhU_Xi",
        "outputId": "371e4624-b79e-4cd9-bf80-6bda5bb5c36e",
        "colab": {
          "base_uri": "https://localhost:8080/"
        }
      },
      "execution_count": null,
      "outputs": [
        {
          "output_type": "stream",
          "name": "stdout",
          "text": [
            "\u001b[?1h\u001b=\u001b[H\u001b[2J\u001b[?1000l\u001b[?1002l\u001b[?1003l\u001b[?1006l\u001b[?1005l\u001b[m\u001b[?1006l\u001b[?1000l\u001b[?1002l\u001b[?1003l\u001b[?2004l\u001b[1;1H\u001b[1;24r\u001b[>c\u001b[>q\u001b[1;1H\u001b[K\r\n",
            "\u001b[K\r\n",
            "\u001b[K\r\n",
            "\u001b[K\r\n",
            "\u001b[K\r\n",
            "\u001b[K\r\n",
            "\u001b[K\r\n",
            "\u001b[K\r\n",
            "\u001b[K\r\n",
            "\u001b[K\r\n",
            "\u001b[K\r\n",
            "\u001b[K\r\n",
            "\u001b[K\r\n",
            "\u001b[K\r\n",
            "\u001b[K\r\n",
            "\u001b[K\r\n",
            "\u001b[K\r\n",
            "\u001b[K\r\n",
            "\u001b[K\r\n",
            "\u001b[K\r\n",
            "\u001b[K\r\n",
            "\u001b[K\r\n",
            "\u001b[K\u001b[37m\u001b[40m\r\n",
            "[my_sessio0:python*                               \"3d2d3f20f3af\" 16:41 05-Nov-23\u001b[m\u001b[1;1H\u001b[m\u001b[?1006l\u001b[?1000l\u001b[?1002l\u001b[?1003l\u001b[?2004l\u001b[1;1H\u001b[1;24r\u001b[1;1H\u001b[K\r\n",
            "\u001b[K\r\n",
            "\u001b[K\r\n",
            "\u001b[K\r\n",
            "\u001b[K\r\n",
            "\u001b[K\r\n",
            "\u001b[K\r\n",
            "\u001b[K\r\n",
            "\u001b[K\r\n",
            "\u001b[K\r\n",
            "\u001b[K\r\n",
            "\u001b[K\r\n",
            "\u001b[K\r\n",
            "\u001b[K\r\n",
            "\u001b[K\r\n",
            "\u001b[K\r\n",
            "\u001b[K\r\n",
            "\u001b[K\r\n",
            "\u001b[K\r\n",
            "\u001b[K\r\n",
            "\u001b[K\r\n",
            "\u001b[K\r\n",
            "\u001b[K\u001b[37m\u001b[40m\n",
            "[my_sessio0:python*                               \"3d2d3f20f3af\" 16:41 05-Nov-23\u001b[m\u001b[1;1H\u001b[?7727h\u001b[37m\u001b[40m\u001b[24;1H[my_sessio0:python*                               \"3d2d3f20f3af\" 16:42 05-Nov-23\u001b[m\u001b[1;1HThe last message from the bot is: Ty\n",
            "\u001b[37m\u001b[40m\u001b[24;1H[my_sessio0:python3*                              \"3d2d3f20f3af\" 16:42 05-Nov-23\u001b[m\u001b[2;1HCalculating pivot level\n",
            "[*********************100%%**********************]  1 of 1 completed\n",
            "Calculating pivot done\n",
            "Find signals for 1m started\n",
            "[*********************100%%**********************]  1 of 1 completed\n",
            "[*********************100%%**********************]  12 of 12 completed\n",
            "Find signals for 1m completed\n",
            "Find signals for 5m started\n",
            "[*********************100%%**********************]  1 of 1 completed\n",
            "[*********************100%%**********************]  12 of 12 completed\n",
            "Find signals for 5m completed\n",
            "Find signals for 15m started\n",
            "[*********************100%%**********************]  1 of 1 completed\n",
            "[*********************100%%**********************]  12 of 12 completed\n",
            "Find signals for 15m completed\n",
            "Find signals for 30m started\n",
            "[*********************100%%**********************]  1 of 1 completed\n",
            "[*********************100%%**********************]  12 of 12 completed\n",
            "Find signals for 30m completed\n",
            "Find signals for 1d started\n",
            "[*********************100%%**********************]  1 of 1 completed\n",
            "[**********************92%%******************    ]  11 of 12 completed\u001b[1;23r\u001b[23;1H\n",
            "\u001b[A[*********************100%%**********************]  12 of 12 completed\n",
            "\u001b[K\u001b[1;24r\u001b[23;1H\u001b[1;23r\u001b[23;1H\n",
            "\u001b[AFind signals for 1d completed\n",
            "\u001b[K\u001b[1;24r\u001b[23;1H\u001b[1;23r\u001b[23;1H\n",
            "\u001b[AMessage sent successfully.\n",
            "\u001b[K\u001b[1;24r\u001b[23;1H\u001b[1;23r\u001b[23;1H\n",
            "\u001b[AResult 1 is: WAIT from 2023-11-05 22:12:35.984606+05:30\n",
            "\u001b[K\u001b[1;24r\u001b[23;1H\u001b[1;23r\u001b[23;1H\n",
            "\u001b[AExecute SUCCESS at 2023-11-05 22:12:36.823073+05:30\n",
            "\u001b[K\u001b[1;24r\u001b[23;1H\u001b[1;23r\u001b[23;1H\n",
            "\u001b[AMessage sent successfully.\n",
            "\u001b[K\u001b[1;24r\u001b[23;1H\u001b[37m\u001b[40m\n",
            "[my_sessio0:python3*                              \"3d2d3f20f3af\" 16:43 05-Nov-23\u001b[m\u001b[23;1H\u001b[1;23r\u001b[23;1H\n",
            "\u001b[AThe last message from the bot is: Ty\n",
            "\u001b[K\u001b[1;24r\u001b[23;1H\u001b[1;23r\u001b[23;1H\n",
            "\u001b[AMessage sent successfully.\n",
            "\u001b[K\u001b[1;24r\u001b[23;1H\u001b[1;23r\u001b[23;1H\n",
            "\u001b[AResult 1 is: WAIT from 2023-11-05 22:12:35.984606+05:30\n",
            "\u001b[K\u001b[1;24r\u001b[23;1H\u001b[1;23r\u001b[23;1H\n",
            "\u001b[AExecute SUCCESS at 2023-11-05 22:13:09.182265+05:30\n",
            "\u001b[K\u001b[1;24r\u001b[23;1H\u001b[1;23r\u001b[23;1H\n",
            "\u001b[AMessage sent successfully.\n",
            "\u001b[K\u001b[1;24r\u001b[23;1H"
          ]
        }
      ]
    }
  ]
}